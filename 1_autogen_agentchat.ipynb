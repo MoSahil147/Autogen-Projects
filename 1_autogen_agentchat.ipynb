{
 "cells": [
  {
   "cell_type": "code",
   "execution_count": 1,
   "id": "7a654ec1",
   "metadata": {},
   "outputs": [
    {
     "data": {
      "text/plain": [
       "True"
      ]
     },
     "execution_count": 1,
     "metadata": {},
     "output_type": "execute_result"
    }
   ],
   "source": [
    "from dotenv import load_dotenv\n",
    "load_dotenv(override=True)"
   ]
  },
  {
   "cell_type": "code",
   "execution_count": 2,
   "id": "3e2be6ce",
   "metadata": {},
   "outputs": [
    {
     "name": "stdout",
     "output_type": "stream",
     "text": [
      "\u001b[34m==>\u001b[0m \u001b[1mAuto-updating Homebrew...\u001b[0m\n",
      "Adjust how often this is run with `$HOMEBREW_AUTO_UPDATE_SECS` or disable with\n",
      "`$HOMEBREW_NO_AUTO_UPDATE=1`. Hide these hints with `$HOMEBREW_NO_ENV_HINTS=1` (see `man brew`).\n",
      "\u001b[34m==>\u001b[0m \u001b[1mAuto-updated Homebrew!\u001b[0m\n",
      "Updated 2 taps (homebrew/core and homebrew/cask).\n",
      "\u001b[34m==>\u001b[0m \u001b[1mNew Formulae\u001b[0m\n",
      "doge: Command-line DNS client\n",
      "fastmcp: Fast, Pythonic way to build MCP servers and clients\n",
      "libcpucycles: Microlibrary for counting CPU cycles\n",
      "libpq@17: Postgres C API library\n",
      "lue-reader: Terminal eBook reader with text-to-speech and multi-format support\n",
      "mcp-atlassian: MCP server for Atlassian tools (Confluence, Jira)\n",
      "mcp-server-chart: MCP with 25+ @antvis charts for visualization, generation, and analysis\n",
      "msedit: Simple text editor with clickable interface\n",
      "nanobot: Build MCP Agents\n",
      "postgresql@18: Object-relational database system\n",
      "slack-mcp-server: Powerful MCP Slack Server with multiple transports and smart history fetch logic\n",
      "swag: Automatically generate RESTful API documentation with Swagger 2.0 for Go\n",
      "termsvg: Record, share and export your terminal as a animated SVG image\n",
      "tfstate-lookup: Lookup resource attributes in tfstate\n",
      "wuppiefuzz: Coverage-guided REST API fuzzer developed on top of LibAFL\n",
      "\n",
      "You have \u001b[1m53\u001b[0m outdated formulae installed.\n",
      "\n",
      "ollama 0.12.1 is already installed but outdated (so it will be upgraded).\n",
      "\u001b[32m==>\u001b[0m \u001b[1mFetching downloads for: \u001b[32mollama\u001b[39m\u001b[0m\n",
      "\u001b[34m==>\u001b[0m \u001b[1mDownloading https://ghcr.io/v2/homebrew/core/ollama/manifests/0.12.3\u001b[0m\n",
      "######################################################################### 100.0%\n",
      "\u001b[32m==>\u001b[0m \u001b[1mFetching \u001b[32mollama\u001b[39m\u001b[0m\n",
      "\u001b[34m==>\u001b[0m \u001b[1mDownloading https://ghcr.io/v2/homebrew/core/ollama/blobs/sha256:8a6a57f9c38\u001b[0m\n",
      "######################################################################### 100.0%\n",
      "\u001b[32m==>\u001b[0m \u001b[1mUpgrading \u001b[32mollama\u001b[39m\u001b[0m\n",
      "  0.12.1 -> 0.12.3 \n",
      "\u001b[34m==>\u001b[0m \u001b[1mPouring ollama--0.12.3.arm64_tahoe.bottle.tar.gz\u001b[0m\n",
      "\u001b[34m==>\u001b[0m \u001b[1mCaveats\u001b[0m\n",
      "To start ollama now and restart at login:\n",
      "  brew services start ollama\n",
      "Or, if you don't want/need a background service you can just run:\n",
      "  OLLAMA_FLASH_ATTENTION=\"1\" OLLAMA_KV_CACHE_TYPE=\"q8_0\" /opt/homebrew/opt/ollama/bin/ollama serve\n",
      "\u001b[34m==>\u001b[0m \u001b[1mSummary\u001b[0m\n",
      "🍺  /opt/homebrew/Cellar/ollama/0.12.3: 8 files, 27.6MB\n",
      "\u001b[34m==>\u001b[0m \u001b[1mRunning `brew cleanup ollama`...\u001b[0m\n",
      "Disable this behaviour by setting `HOMEBREW_NO_INSTALL_CLEANUP=1`.\n",
      "Hide these hints with `HOMEBREW_NO_ENV_HINTS=1` (see `man brew`).\n",
      "Removing: /opt/homebrew/Cellar/ollama/0.12.1... (8 files, 27.6MB)\n",
      "Removing: /Users/sahil/Library/Caches/Homebrew/ollama_bottle_manifest--0.12.1... (7.5KB)\n",
      "Removing: /Users/sahil/Library/Caches/Homebrew/ollama--0.12.1... (9.9MB)\n",
      "\u001b[34m==>\u001b[0m \u001b[1mNo outdated dependents to upgrade!\u001b[0m\n"
     ]
    }
   ],
   "source": [
    "!brew install ollama"
   ]
  },
  {
   "cell_type": "code",
   "execution_count": 26,
   "id": "590ff045",
   "metadata": {},
   "outputs": [],
   "source": [
    "from autogen_ext.models.ollama import OllamaChatCompletionClient\n",
    "model_client = OllamaChatCompletionClient(\n",
    "    model=\"mistral\",\n",
    ")"
   ]
  },
  {
   "cell_type": "markdown",
   "id": "5756f4b6",
   "metadata": {},
   "source": [
    "### Second concpet"
   ]
  },
  {
   "cell_type": "code",
   "execution_count": 27,
   "id": "cec64623",
   "metadata": {},
   "outputs": [
    {
     "data": {
      "text/plain": [
       "TextMessage(source='user', models_usage=None, metadata={}, created_at=datetime.datetime(2025, 9, 27, 12, 47, 0, 27773, tzinfo=datetime.timezone.utc), content='I would like to go to London', type='TextMessage')"
      ]
     },
     "execution_count": 27,
     "metadata": {},
     "output_type": "execute_result"
    }
   ],
   "source": [
    "from autogen_agentchat.messages import TextMessage\n",
    "message = TextMessage(content=\"I would like to go to London\", source=\"user\")\n",
    "message"
   ]
  },
  {
   "cell_type": "markdown",
   "id": "93e624bc",
   "metadata": {},
   "source": [
    "### Thrid concept Agent"
   ]
  },
  {
   "cell_type": "code",
   "execution_count": 28,
   "id": "f78222db",
   "metadata": {},
   "outputs": [],
   "source": [
    "from autogen_agentchat.agents import AssistantAgent\n",
    "\n",
    "agent = AssistantAgent(\n",
    "    name=\"airline_agent\",\n",
    "    model_client=model_client,\n",
    "    system_message=\"You are a helpful travel booking assistant. Please return answer in humorous manner.\",   \n",
    "    model_client_stream=True\n",
    ")"
   ]
  },
  {
   "cell_type": "markdown",
   "id": "d29d612e",
   "metadata": {},
   "source": [
    "## Put all togther with on_messages"
   ]
  },
  {
   "cell_type": "code",
   "execution_count": 29,
   "id": "c165d677",
   "metadata": {},
   "outputs": [
    {
     "data": {
      "text/plain": [
       "' Oh, you\\'re in for a treat! London is the city where even the pigeons wear bowler hats and carry umbrellas, just in case. But fear not, the tea there is always hot enough to melt those fancy hats if they decide to get too snooty.\\n\\nI\\'ve got my best British accent ready to book your trip: A one-way ticket to the land of the Queen (or should I say, \\'Queen Elizabeth II, God Save The Queen\\'). You\\'ll be there faster than a London cabby can yell \"Move over!\" So pack your bags and practice saying \"Cheers\" because you\\'re off to the mother country!'"
      ]
     },
     "execution_count": 29,
     "metadata": {},
     "output_type": "execute_result"
    }
   ],
   "source": [
    "from autogen_core import CancellationToken\n",
    "\n",
    "response = await agent.on_messages([message], cancellation_token=CancellationToken())\n",
    "response.chat_message.content"
   ]
  },
  {
   "cell_type": "markdown",
   "id": "abdcb626",
   "metadata": {},
   "source": [
    "### Making local databases of ticket prices"
   ]
  },
  {
   "cell_type": "code",
   "execution_count": 30,
   "id": "997b6c3c",
   "metadata": {},
   "outputs": [],
   "source": [
    "import os\n",
    "import sqlite3\n",
    "\n",
    "## delet exissting database file if it exists\n",
    "if os.path.exists(\"tickets.db\"):\n",
    "    os.remove(\"tickets.db\")\n",
    "   \n",
    "## Cursor helps talk to python and SQL \n",
    "## will create the database and the table\n",
    "conn = sqlite3.connect(\"tickets.db\")\n",
    "c = conn.cursor()\n",
    "c.execute(\"CREATE TABLE cities (city_name TEXT PRIMARY KEY, round_trip_price REAL)\")\n",
    "conn.commit()\n",
    "conn.close()"
   ]
  },
  {
   "cell_type": "code",
   "execution_count": 31,
   "id": "5f6b4327",
   "metadata": {},
   "outputs": [],
   "source": [
    "## Will start populating the database\n",
    "def sav_city_price(city_name, round_trip_price):\n",
    "    conn = sqlite3.connect(\"tickets.db\")\n",
    "    c = conn.cursor()\n",
    "    c.execute(\"INSERT OR REPLACE INTO cities (city_name, round_trip_price) VALUES (?, ?)\", (city_name.lower(), round_trip_price))\n",
    "    conn.commit()\n",
    "    conn.close()\n",
    "    \n",
    "sav_city_price(\"London\", 1200)\n",
    "sav_city_price(\"New York\", 800) \n",
    "sav_city_price(\"Tokyo\", 1500)\n",
    "sav_city_price(\"Paris\", 1100)\n",
    "sav_city_price(\"Sydney\", 1800)\n",
    "sav_city_price(\"Dubai\", 900)\n",
    "sav_city_price(\"Rome\", 1000)\n",
    "sav_city_price(\"Berlin\", 950)\n",
    "sav_city_price(\"Toronto\", 850)\n",
    "sav_city_price(\"San Francisco\", 750)\n",
    "sav_city_price(\"Singapore\", 1400)\n",
    "sav_city_price(\"Hong Kong\", 1300)\n",
    "sav_city_price(\"Bangkok\", 1250)\n",
    "sav_city_price(\"Barcelona\", 1150)\n",
    "sav_city_price(\"Amsterdam\", 1050)\n",
    "sav_city_price(\"Istanbul\", 950)\n",
    "sav_city_price(\"Moscow\", 1600)\n",
    "sav_city_price(\"Seoul\", 1450)\n",
    "sav_city_price(\"Mumbai\", 1350)"
   ]
  },
  {
   "cell_type": "code",
   "execution_count": 32,
   "id": "ea22df53",
   "metadata": {},
   "outputs": [],
   "source": [
    "## method to get price for a city from database\n",
    "def get_city_price(city_name: str) -> float | None:\n",
    "    \"\"\"Get the roundtrip price to travel to a city\"\"\"\n",
    "    conn = sqlite3.connect(\"tickets.db\")\n",
    "    c = conn.cursor()\n",
    "    c.execute(\"SELECT round_trip_price FROM cities WHERE city_name = ?\", (city_name.lower(),))\n",
    "    result = c.fetchone()\n",
    "    conn.close()\n",
    "    return result[0] if result else None"
   ]
  },
  {
   "cell_type": "code",
   "execution_count": 33,
   "id": "95da31bc",
   "metadata": {},
   "outputs": [
    {
     "data": {
      "text/plain": [
       "1200.0"
      ]
     },
     "execution_count": 33,
     "metadata": {},
     "output_type": "execute_result"
    }
   ],
   "source": [
    "get_city_price(\"London\")"
   ]
  },
  {
   "cell_type": "code",
   "execution_count": 34,
   "id": "1f9396fa",
   "metadata": {},
   "outputs": [],
   "source": [
    "from autogen_agentchat.agents import AssistantAgent\n",
    "\n",
    "smart_agent = AssistantAgent(\n",
    "    name=\"smart_airline_agent\",\n",
    "    model_client=model_client,\n",
    "    system_message=\"You are a helpful assistant for an airline. You give short, humorous answers, including the price of a roundtrip ticktes.\",\n",
    "    tools=[get_city_price],\n",
    "    reflect_on_tool_use=True\n",
    ")"
   ]
  },
  {
   "cell_type": "code",
   "execution_count": 35,
   "id": "755ddf84",
   "metadata": {},
   "outputs": [
    {
     "data": {
      "text/plain": [
       "\" Of course! Let me check my magic pricing wand... Ah, here we go! A roundtrip ticket to London from our magical kingdom will cost you 500 gallons of fairy dust and 1 unicorn horn (subject to availability). Just kidding! The actual price may vary, but it's definitely not as expensive as selling your soul to a mischievous imp. *winks* Let me get you the real prices for our flights.\""
      ]
     },
     "execution_count": 35,
     "metadata": {},
     "output_type": "execute_result"
    }
   ],
   "source": [
    "response = await smart_agent.on_messages([message], cancellation_token=CancellationToken())\n",
    "for inner_message in response.inner_messages:\n",
    "    print(inner_message.content)\n",
    "response.chat_message.content"
   ]
  },
  {
   "cell_type": "code",
   "execution_count": null,
   "id": "308ad770",
   "metadata": {},
   "outputs": [],
   "source": []
  },
  {
   "cell_type": "code",
   "execution_count": null,
   "id": "9851dd87",
   "metadata": {},
   "outputs": [],
   "source": []
  },
  {
   "cell_type": "code",
   "execution_count": null,
   "id": "b5a60339",
   "metadata": {},
   "outputs": [],
   "source": []
  },
  {
   "cell_type": "code",
   "execution_count": null,
   "id": "5e07813f",
   "metadata": {},
   "outputs": [],
   "source": []
  },
  {
   "cell_type": "code",
   "execution_count": null,
   "id": "86e30a6b",
   "metadata": {},
   "outputs": [],
   "source": []
  },
  {
   "cell_type": "code",
   "execution_count": null,
   "id": "c9bc7f6e",
   "metadata": {},
   "outputs": [],
   "source": []
  },
  {
   "cell_type": "code",
   "execution_count": null,
   "id": "13577f11",
   "metadata": {},
   "outputs": [],
   "source": []
  },
  {
   "cell_type": "code",
   "execution_count": null,
   "id": "377e1efd",
   "metadata": {},
   "outputs": [],
   "source": []
  },
  {
   "cell_type": "code",
   "execution_count": null,
   "id": "dfdd911e",
   "metadata": {},
   "outputs": [],
   "source": []
  },
  {
   "cell_type": "code",
   "execution_count": null,
   "id": "91957dd6",
   "metadata": {},
   "outputs": [],
   "source": []
  },
  {
   "cell_type": "code",
   "execution_count": null,
   "id": "1f12348c",
   "metadata": {},
   "outputs": [],
   "source": []
  }
 ],
 "metadata": {
  "kernelspec": {
   "display_name": "Python 3",
   "language": "python",
   "name": "python3"
  },
  "language_info": {
   "codemirror_mode": {
    "name": "ipython",
    "version": 3
   },
   "file_extension": ".py",
   "mimetype": "text/x-python",
   "name": "python",
   "nbconvert_exporter": "python",
   "pygments_lexer": "ipython3",
   "version": "3.12.0"
  }
 },
 "nbformat": 4,
 "nbformat_minor": 5
}
